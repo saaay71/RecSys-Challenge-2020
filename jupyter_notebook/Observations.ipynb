{
 "cells": [
  {
   "cell_type": "markdown",
   "metadata": {},
   "source": [
    "# Read parquet"
   ]
  },
  {
   "cell_type": "code",
   "execution_count": null,
   "metadata": {},
   "outputs": [],
   "source": [
    "%pyspark\n",
    "training_parquet_path = \"/PATH/training_df\"\n",
    "validation_parquet_path = \"/PATH/val_df\"\n",
    "test_parquet_path = \"/PATH/test_df\"\n",
    "\n",
    "training_df = sqc.read.parquet(training_parquet_path)\n",
    "validation_df = sqc.read.parquet(validation_parquet_path)\n",
    "test_df = sqc.read.parquet(test_parquet_path)"
   ]
  },
  {
   "cell_type": "markdown",
   "metadata": {},
   "source": [
    "# Flow of engagements in the first 24 hours"
   ]
  },
  {
   "cell_type": "code",
   "execution_count": null,
   "metadata": {},
   "outputs": [],
   "source": [
    "%pyspark\n",
    "none_engagments = (F.col(\"reply_engagement_timestamp\").isNull() & F.col(\"retweet_engagement_timestamp\").isNull() &\n",
    "                         F.col(\"retweet_with_comment_engagement_timestamp\").isNull() & F.col(\"like_engagement_timestamp\").isNull())\n",
    "\n",
    "engagee_activity = training_df\\\n",
    ".filter(~none_engagments)\\\n",
    ".select(F.col(\"engagee_user_id\"), F.col(\"reply_engagement_timestamp\"), F.col(\"retweet_engagement_timestamp\"), F.col(\"retweet_with_comment_engagement_timestamp\"), F.col(\"like_engagement_timestamp\"))\\\n",
    ".withColumn(\"like_engagment\", F.when(~F.col(\"like_engagement_timestamp\").isNull(), F.array(F.col(\"like_engagement_timestamp\"), F.lit(\"like\"))))\\\n",
    ".withColumn(\"reply_engagment\", F.when(~F.col(\"reply_engagement_timestamp\").isNull(), F.array(F.col(\"reply_engagement_timestamp\"), F.lit(\"reply\"))))\\\n",
    ".withColumn(\"rt_engagment\", F.when(~F.col(\"retweet_engagement_timestamp\").isNull(), F.array(F.col(\"retweet_engagement_timestamp\"), F.lit(\"retweet\"))))\\\n",
    ".withColumn(\"rtwithcmt_engagment\", F.when(~F.col(\"retweet_with_comment_engagement_timestamp\").isNull(), F.array(F.col(\"retweet_with_comment_engagement_timestamp\"), F.lit(\"rtWithcmt\"))))\\\n",
    ".withColumn(\"engagment\", F.array(F.col(\"like_engagment\"), F.col(\"reply_engagment\"), F.col(\"rt_engagment\"), F.col(\"rtwithcmt_engagment\")))\\\n",
    ".drop(\"reply_engagement_timestamp\", \"retweet_engagement_timestamp\", \"retweet_with_comment_engagement_timestamp\", \"like_engagement_timestamp\", \"like_engagment\", \"reply_engagment\", \"rt_engagment\", \"rtwithcmt_engagment\")\\\n",
    ".select(F.col(\"engagee_user_id\"), F.explode(F.col(\"engagment\")))\\\n",
    ".filter(~F.col(\"col\").isNull())\\\n",
    ".select(F.col(\"engagee_user_id\"), F.col(\"col\")[0].alias(\"engage_timestamp\"), F.col(\"col\")[1].alias(\"engage_type\"))\\\n",
    ".withColumn(\"time\", F.to_timestamp(F.col(\"engage_timestamp\")+0))\\\n",
    ".withColumn(\"day\", F.dayofmonth(F.col(\"time\")))\\\n",
    ".withColumn(\"hour\", F.hour(F.col(\"time\")))\\\n",
    ".withColumn(\"minute\", F.minute(F.col(\"time\")))\\\n",
    ".filter(F.col(\"day\")==6)\n",
    "\n",
    "z.show(engagee_activity.groupBy(\"day\", \"hour\").agg(F.sum(F.when(F.col(\"engage_type\")==\"like\", 1).otherwise(0)).alias(\"like\"),\n",
    "                                            F.sum(F.when(F.col(\"engage_type\")==\"retweet\", 1).otherwise(0)).alias(\"retweet\"),\n",
    "                                            F.sum(F.when(F.col(\"engage_type\")==\"reply\", 1).otherwise(0)).alias(\"reply\"),\n",
    "                                            F.sum(F.when(F.col(\"engage_type\")==\"rtWithcmt\", 1).otherwise(0)).alias(\"rtWithCmt\")))"
   ]
  },
  {
   "cell_type": "markdown",
   "metadata": {},
   "source": [
    "# Engager Follower Distribution"
   ]
  },
  {
   "cell_type": "code",
   "execution_count": null,
   "metadata": {},
   "outputs": [],
   "source": [
    "%pyspark\n",
    "users = training_df.dropDuplicates([\"engager_user_id\"]).select(\"engager_user_id\", \"engager_follower_count\", \"engager_following_count\", \"engager_is_verified\", \"engager_account_creation_time\")\n",
    "bins, counts = users.select(\"engager_follower_count\").rdd.flatMap(lambda x: x).histogram(1000000)\n",
    "\n",
    "fig, ax = plt.subplots()\n",
    "plt.plot(bins[:-1], counts,'--',label='degrees', linewidth=2)\n",
    "# plt.plot(bins[1000:1130], counts[1000:1130],'-', linewidth=4)\n",
    "plt.xscale(\"log\")\n",
    "plt.yscale(\"log\")\n",
    "plt.xlabel(\"Number of follower\")\n",
    "plt.ylabel(\"freq.\")\n",
    "plt.title(\"Distribution of engager users based on follower count\")\n",
    "# plt.savefig(\"/nas_ssd_social_media_analytics/ali_twitter/figs/followers.png\")\n",
    "plt.show()"
   ]
  },
  {
   "cell_type": "markdown",
   "metadata": {},
   "source": [
    "# Engager following distribution"
   ]
  },
  {
   "cell_type": "code",
   "execution_count": null,
   "metadata": {},
   "outputs": [],
   "source": [
    "%pyspark\n",
    "users = training_df.dropDuplicates([\"engager_user_id\"]).select(\"engager_user_id\", \"engager_follower_count\", \"engager_following_count\", \"engager_is_verified\", \"engager_account_creation_time\")\n",
    "bins, counts = users.select(\"engager_following_count\").rdd.flatMap(lambda x: x).histogram(1000000)\n",
    "\n",
    "fig, ax = plt.subplots()\n",
    "plt.plot(bins[:-1], counts,'--',label='degrees', linewidth=2)\n",
    "plt.plot(bins[1000:1130], counts[1000:1130],'-', linewidth=4)\n",
    "plt.xscale(\"log\")\n",
    "plt.yscale(\"log\")\n",
    "plt.xlabel(\"Number of following\")\n",
    "plt.ylabel(\"freq.\")\n",
    "plt.title(\"Distribution of engager users based on following count\")\n",
    "# plt.savefig(\"/PATH/following.png\")\n",
    "plt.show()"
   ]
  },
  {
   "cell_type": "markdown",
   "metadata": {},
   "source": [
    "# Hashtag Duration"
   ]
  },
  {
   "cell_type": "code",
   "execution_count": null,
   "metadata": {},
   "outputs": [],
   "source": [
    "%pyspark\n",
    "import matplotlib.ticker as ticker\n",
    "\n",
    "tweets = training_df.dropDuplicates([\"tweet_id\"])\n",
    "\n",
    "hashtagActivity = tweets\\\n",
    ".filter(~F.col(\"hashtags\").isNull())\\\n",
    ".select(F.explode(\"hashtags\").alias(\"hashtag\"), \"timestamp\")\n",
    "\n",
    "bins, counts = hashtagActivity\\\n",
    ".groupby(\"hashtag\").agg(F.min(\"timestamp\").alias(\"start_timestamp\"), (F.max(\"timestamp\") - F.min(\"timestamp\")).alias(\"duration\"), F.count(\"timestamp\").alias(\"cnt\"))\\\n",
    ".select(\"duration\").rdd.flatMap(lambda x: x).histogram(1000)\n",
    "\n",
    "fig, ax = plt.subplots()\n",
    "plt.plot(bins[:-1], counts,'--', linewidth=2)\n",
    "plt.yscale(\"log\")\n",
    "# plt.xscale(\"log\")\n",
    "scale_x = 24*60*60\n",
    "scale_y = 1e3\n",
    "ticks_x = ticker.FuncFormatter(lambda x, pos: '{0:g}'.format(int(x/scale_x)))\n",
    "ax.xaxis.set_major_formatter(ticks_x)\n",
    "\n",
    "\n",
    "plt.xlabel(\"Duration (days)\")\n",
    "plt.ylabel(\"freq. (log)\")\n",
    "plt.title(\"hashtag duration\")\n",
    "# plt.savefig(\"/PATH/hashtags.png\")\n",
    "plt.show()"
   ]
  }
 ],
 "metadata": {
  "kernelspec": {
   "display_name": "Python 3",
   "language": "python",
   "name": "python3"
  },
  "language_info": {
   "codemirror_mode": {
    "name": "ipython",
    "version": 3
   },
   "file_extension": ".py",
   "mimetype": "text/x-python",
   "name": "python",
   "nbconvert_exporter": "python",
   "pygments_lexer": "ipython3",
   "version": "3.7.3"
  }
 },
 "nbformat": 4,
 "nbformat_minor": 2
}
