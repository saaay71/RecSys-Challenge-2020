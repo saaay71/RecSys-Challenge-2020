{
 "cells": [
  {
   "cell_type": "markdown",
   "metadata": {},
   "source": [
    "# Import Libraries"
   ]
  },
  {
   "cell_type": "code",
   "execution_count": null,
   "metadata": {},
   "outputs": [],
   "source": [
    "%pyspark\n",
    "import matplotlib.pyplot as plt\n",
    "import numpy as np\n",
    "import pandas as pd\n",
    "\n",
    "from pyspark.sql import SQLContext\n",
    "from pyspark.sql import functions as F\n",
    "from pyspark.sql import types as T\n",
    "from pyspark.sql import Row\n",
    "from pyspark.sql.window import Window\n",
    "\n",
    "from transformers import BertTokenizer\n",
    "tokenizer = BertTokenizer.from_pretrained('bert-base-multilingual-cased', do_lower_case=False)\n",
    "\n",
    "@F.udf(\"String\")\n",
    "def decode_tokens(tokens):\n",
    "  return tokenizer.decode(tokens)\n",
    "\n",
    "sqc = SQLContext(sc)"
   ]
  },
  {
   "cell_type": "markdown",
   "metadata": {},
   "source": [
    "# Schema"
   ]
  },
  {
   "cell_type": "code",
   "execution_count": 3,
   "metadata": {},
   "outputs": [
    {
     "name": "stderr",
     "output_type": "stream",
     "text": [
      "UsageError: Line magic function `%pyspark` not found.\n"
     ]
    }
   ],
   "source": [
    "%pyspark\n",
    "fields = list()\n",
    "fields.append(T.StructField(\"text_tokens\",  T.StringType(), True))\n",
    "fields.append(T.StructField(\"hashtags\", T.StringType(), True))\n",
    "fields.append(T.StructField(\"tweet_id\", T.StringType(), True))\n",
    "fields.append(T.StructField(\"present_media\", T.StringType(), True))\n",
    "fields.append(T.StructField(\"present_links\", T.StringType(), True))\n",
    "fields.append(T.StructField(\"present_domains\", T.StringType(), True))\n",
    "fields.append(T.StructField(\"tweet_type\", T.StringType(), True))\n",
    "fields.append(T.StructField(\"language\", T.StringType(), True))\n",
    "fields.append(T.StructField(\"timestamp\", T.LongType(), True))\n",
    "\n",
    "fields.append(T.StructField(\"engager_user_id\", T.StringType(), True))\n",
    "fields.append(T.StructField(\"engager_follower_count\", T.LongType(), True))\n",
    "fields.append(T.StructField(\"engager_following_count\", T.LongType(), True))\n",
    "fields.append(T.StructField(\"engager_is_verified\", T.BooleanType(), True))\n",
    "fields.append(T.StructField(\"engager_account_creation_time\", T.LongType(), True))\n",
    "\n",
    "fields.append(T.StructField(\"engagee_user_id\", T.StringType(), True))\n",
    "fields.append(T.StructField(\"engagee_follower_count\", T.LongType(), True))\n",
    "fields.append(T.StructField(\"engagee_following_count\", T.LongType(), True))\n",
    "fields.append(T.StructField(\"engagee_is_verified\", T.BooleanType(), True))\n",
    "fields.append(T.StructField(\"engagee_account_creation_time\", T.LongType(), True))\n",
    "\n",
    "fields.append(T.StructField(\"engagee_follows_engager\", T.BooleanType(), True))\n",
    "fields.append(T.StructField(\"reply_engagement_timestamp\", T.LongType(), True))\n",
    "fields.append(T.StructField(\"retweet_engagement_timestamp\", T.LongType(), True))\n",
    "fields.append(T.StructField(\"retweet_with_comment_engagement_timestamp\", T.LongType(), True))\n",
    "fields.append(T.StructField(\"like_engagement_timestamp\", T.LongType(), True))\n",
    "schema = T.StructType(fields)"
   ]
  },
  {
   "cell_type": "markdown",
   "metadata": {},
   "source": [
    "# File Path"
   ]
  },
  {
   "cell_type": "code",
   "execution_count": null,
   "metadata": {},
   "outputs": [],
   "source": [
    "%pyspark\n",
    "training_file_path = \"/PATH/training.tsv\"\n",
    "validation_file_path = \"/PATH/val.tsv\"\n",
    "test_file_path = \"/PATH/competition_test.tsv\""
   ]
  },
  {
   "cell_type": "markdown",
   "metadata": {},
   "source": [
    "# Reading Training Data"
   ]
  },
  {
   "cell_type": "code",
   "execution_count": null,
   "metadata": {},
   "outputs": [],
   "source": [
    "%pyspark\n",
    "training_df = sqc.read.option(\"sep\", chr(1)).schema(schema).csv(training_file_path)\n",
    "training_df = training_df.withColumn(\"text_tokens\", F.split(\"text_tokens\", \"\\t\"))\n",
    "training_df = training_df.withColumn(\"hashtags\", F.split(\"hashtags\", \"\\t\"))\n",
    "training_df = training_df.withColumn(\"present_media\", F.split(\"present_media\", \"\\t\"))\n",
    "training_df = training_df.withColumn(\"present_links\", F.split(\"present_links\", \"\\t\"))\n",
    "training_df = training_df.withColumn(\"present_domains\", F.split(\"present_domains\", \"\\t\"))\n",
    "# training_df.printSchema()\n",
    "# training_df.show()"
   ]
  },
  {
   "cell_type": "markdown",
   "metadata": {},
   "source": [
    "# Reading Validation Data"
   ]
  },
  {
   "cell_type": "code",
   "execution_count": null,
   "metadata": {},
   "outputs": [],
   "source": [
    "%pyspark\n",
    "validation_df = sqc.read.option(\"sep\", chr(1)).schema(schema).csv(validation_file_path)\n",
    "validation_df = validation_df.withColumn(\"text_tokens\", F.split(\"text_tokens\", \"\\t\"))\n",
    "validation_df = validation_df.withColumn(\"hashtags\", F.split(\"hashtags\", \"\\t\"))\n",
    "validation_df = validation_df.withColumn(\"present_media\", F.split(\"present_media\", \"\\t\"))\n",
    "validation_df = validation_df.withColumn(\"present_links\", F.split(\"present_links\", \"\\t\"))\n",
    "validation_df = validation_df.withColumn(\"present_domains\", F.split(\"present_domains\", \"\\t\"))\n",
    "\n",
    "# validation_df.show()"
   ]
  },
  {
   "cell_type": "markdown",
   "metadata": {},
   "source": [
    "# Reading Test Data"
   ]
  },
  {
   "cell_type": "code",
   "execution_count": null,
   "metadata": {},
   "outputs": [],
   "source": [
    "%pyspark\n",
    "test_df = sqc.read.option(\"sep\", chr(1)).schema(schema).csv(test_file_path)\n",
    "test_df = test_df.withColumn(\"text_tokens\", F.split(\"text_tokens\", \"\\t\"))\n",
    "test_df = test_df.withColumn(\"hashtags\", F.split(\"hashtags\", \"\\t\"))\n",
    "test_df = test_df.withColumn(\"present_media\", F.split(\"present_media\", \"\\t\"))\n",
    "test_df = test_df.withColumn(\"present_links\", F.split(\"present_links\", \"\\t\"))\n",
    "test_df = test_df.withColumn(\"present_domains\", F.split(\"present_domains\", \"\\t\"))\n",
    "# test_df.printSchema()"
   ]
  },
  {
   "cell_type": "markdown",
   "metadata": {},
   "source": [
    "# Save data as parquet"
   ]
  },
  {
   "cell_type": "code",
   "execution_count": null,
   "metadata": {},
   "outputs": [],
   "source": [
    "%pyspark\n",
    "training_parquet_path = \"/PATH/training_df\"\n",
    "validation_parquet_path = \"/PATH/val_df\"\n",
    "test_parquet_path = \"/PATH/test_df\"\n",
    "\n",
    "training_df.write.parquet(training_parquet_path)\n",
    "validation_df.write.parquet(validation_parquet_path)\n",
    "test_df.write.parquet(test_parquet_path)"
   ]
  },
  {
   "cell_type": "markdown",
   "metadata": {},
   "source": [
    "# Read parquet data"
   ]
  },
  {
   "cell_type": "code",
   "execution_count": null,
   "metadata": {},
   "outputs": [],
   "source": [
    "training_parquet_path = \"/PATH/training_df\"\n",
    "validation_parquet_path = \"/PATH/val_df\"\n",
    "test_parquet_path = \"/PATH/test_df\"\n",
    "\n",
    "training_df = sqc.read.parquet(training_parquet_path)\n",
    "validation_df = sqc.read.parquet(validation_parquet_path)\n",
    "test_df = sqc.read.parquet(test_parquet_path)"
   ]
  }
 ],
 "metadata": {
  "kernelspec": {
   "display_name": "Python 3",
   "language": "python",
   "name": "python3"
  },
  "language_info": {
   "codemirror_mode": {
    "name": "ipython",
    "version": 3
   },
   "file_extension": ".py",
   "mimetype": "text/x-python",
   "name": "python",
   "nbconvert_exporter": "python",
   "pygments_lexer": "ipython3",
   "version": "3.7.3"
  }
 },
 "nbformat": 4,
 "nbformat_minor": 2
}
